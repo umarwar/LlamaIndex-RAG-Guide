{
 "cells": [
  {
   "cell_type": "markdown",
   "id": "b2f6784a",
   "metadata": {},
   "source": [
    "# **Build RAG app using Replicate API, LlamaIndex, and Pinecone**"
   ]
  },
  {
   "cell_type": "markdown",
   "id": "22024b42",
   "metadata": {},
   "source": [
    "### **1. Install dependencies**"
   ]
  },
  {
   "cell_type": "code",
   "execution_count": null,
   "id": "556de3b8",
   "metadata": {},
   "outputs": [],
   "source": [
    "!pip install llama-index llama-index-vector-stores-pinecone llama-index-llms-replicate pinecone python-dotenv"
   ]
  },
  {
   "cell_type": "markdown",
   "id": "be311325",
   "metadata": {},
   "source": [
    "### **2. Importing Libraries**"
   ]
  },
  {
   "cell_type": "code",
   "execution_count": 2,
   "id": "31b8c573",
   "metadata": {},
   "outputs": [
    {
     "name": "stderr",
     "output_type": "stream",
     "text": [
      "u:\\testLlamaIndex\\myenv\\Lib\\site-packages\\tqdm\\auto.py:21: TqdmWarning: IProgress not found. Please update jupyter and ipywidgets. See https://ipywidgets.readthedocs.io/en/stable/user_install.html\n",
      "  from .autonotebook import tqdm as notebook_tqdm\n"
     ]
    },
    {
     "data": {
      "text/plain": [
       "True"
      ]
     },
     "execution_count": 2,
     "metadata": {},
     "output_type": "execute_result"
    }
   ],
   "source": [
    "import os\n",
    "from llama_index.core import VectorStoreIndex, SimpleDirectoryReader, StorageContext, Settings\n",
    "from llama_index.vector_stores.pinecone import PineconeVectorStore\n",
    "from pinecone import Pinecone, ServerlessSpec\n",
    "from llama_index.embeddings.openai import OpenAIEmbedding\n",
    "from llama_index.llms.replicate import Replicate\n",
    "from dotenv import load_dotenv\n",
    "\n",
    "load_dotenv()"
   ]
  },
  {
   "cell_type": "markdown",
   "id": "0042feea",
   "metadata": {},
   "source": [
    "### **3. Set environment variables and api keys**"
   ]
  },
  {
   "cell_type": "code",
   "execution_count": null,
   "id": "dfbaad10",
   "metadata": {},
   "outputs": [],
   "source": [
    "Replicate_API_KEY = os.environ.get(\"REPLICATE_API_TOKEN\")\n",
    "Pinecone_API_KEY = os.environ.get(\"PINECONE_API\")\n",
    "\n",
    "os.environ[\"OPENAI_API_KEY\"] = (\n",
    "    \"your_openai_api_key\"\n",
    ")"
   ]
  },
  {
   "cell_type": "markdown",
   "id": "bc96c44a",
   "metadata": {},
   "source": [
    "### **4. Create Pinecone index**"
   ]
  },
  {
   "cell_type": "code",
   "execution_count": null,
   "id": "0cff5323",
   "metadata": {},
   "outputs": [],
   "source": [
    "# Initialize a client\n",
    "pc = Pinecone(api_key=Pinecone_API_KEY)\n",
    "\n",
    "# Create a serverless index\n",
    "index_name = \"your_index_name\"\n",
    "dimension = 1536\n",
    "\n",
    "if index_name not in pc.list_indexes().names():\n",
    "    pc.create_index(\n",
    "        name=index_name,\n",
    "        dimension=dimension,\n",
    "        metric=\"cosine\",\n",
    "        spec=ServerlessSpec(\n",
    "            cloud='aws', \n",
    "            region='us-east-1'\n",
    "        ) \n",
    "    ) \n",
    "\n",
    "\n",
    "pc.describe_index(index_name)"
   ]
  },
  {
   "cell_type": "markdown",
   "id": "44329335",
   "metadata": {},
   "source": [
    "### **5. Connect to the index**"
   ]
  },
  {
   "cell_type": "code",
   "execution_count": null,
   "id": "99c7b80d",
   "metadata": {},
   "outputs": [],
   "source": [
    "Pinecone_Host = os.environ.get(\"INDEX_HOST\")\n",
    "pinecone_index = pc.Index(host=Pinecone_Host)\n",
    "\n",
    "pc.list_indexes()"
   ]
  },
  {
   "cell_type": "markdown",
   "id": "a0301e55",
   "metadata": {},
   "source": [
    "### **6. LLM configuration for embedding and generation**"
   ]
  },
  {
   "cell_type": "code",
   "execution_count": 6,
   "id": "02e7642f",
   "metadata": {},
   "outputs": [],
   "source": [
    "from tkinter import SE\n",
    "\n",
    "\n",
    "embed_model = OpenAIEmbedding(model=\"text-embedding-3-large\", dimensions=1536)\n",
    "llm = Replicate(model=\"meta/meta-llama-3-8b-instruct\", temperature=0.7)\n",
    "\n",
    "Settings.embed_model = embed_model\n",
    "Settings.llm = llm"
   ]
  },
  {
   "cell_type": "markdown",
   "id": "bbfd0d41",
   "metadata": {},
   "source": [
    "### **7. Load documents, build the PineconeVectorStore and VectorStoreIndex**"
   ]
  },
  {
   "cell_type": "code",
   "execution_count": 15,
   "id": "3b7149c1",
   "metadata": {},
   "outputs": [
    {
     "name": "stderr",
     "output_type": "stream",
     "text": [
      "Upserted vectors: 100%|██████████| 68/68 [00:05<00:00, 11.51it/s]\n"
     ]
    }
   ],
   "source": [
    "# load documents\n",
    "documents = SimpleDirectoryReader(\"data\").load_data()\n",
    "\n",
    "# Create a PineconeVectorStore using the specified pinecone_index\n",
    "vector_store = PineconeVectorStore(pinecone_index=pinecone_index)\n",
    "\n",
    "# Create a StorageContext using the created PineconeVectorStore\n",
    "storage_context = StorageContext.from_defaults(vector_store=vector_store)\n",
    "\n",
    "# Use the chunks of documents and the storage_context to create the index\n",
    "index = VectorStoreIndex.from_documents(documents, storage_context=storage_context)"
   ]
  },
  {
   "cell_type": "markdown",
   "id": "aa608dd3",
   "metadata": {},
   "source": [
    "## *Alternatively, if you want to load your \"Existing\" Pinecone Vector Store*"
   ]
  },
  {
   "cell_type": "code",
   "execution_count": 7,
   "id": "3495c978",
   "metadata": {},
   "outputs": [],
   "source": [
    "vector_store = PineconeVectorStore(pinecone_index=pinecone_index)\n",
    "\n",
    "index = VectorStoreIndex.from_vector_store(vector_store=vector_store)"
   ]
  },
  {
   "cell_type": "markdown",
   "id": "26842b58",
   "metadata": {},
   "source": [
    "### **8. Query Index**"
   ]
  },
  {
   "cell_type": "code",
   "execution_count": 8,
   "id": "19d2d47b",
   "metadata": {},
   "outputs": [],
   "source": [
    "chat_engine = index.as_chat_engine(chat_mode=\"context\", verbose=True)"
   ]
  },
  {
   "cell_type": "code",
   "execution_count": 9,
   "id": "ea40f567",
   "metadata": {},
   "outputs": [
    {
     "data": {
      "text/markdown": [
       "<b>\n",
       "\n",
       "Congratulations on taking the first step towards preparing for your interview! Based on the guidelines provided, here are some key takeaways to help you prepare:\n",
       "\n",
       "1. Rehearse your answers: Review the general guidelines and the specific question and answer format provided. Practice answering the questions using the suggested framework.\n",
       "2. Research the employer's needs: Before the interview, research the company and the position to understand what the employer is looking for. Ask questions to uncover their needs, wants, and goals.\n",
       "3. Prepare key questions: Prepare a list of questions to ask the interviewer, such as \"What are the most important priorities of this position?\" or \"Can you tell me more about the company culture?\"\n",
       "4. Focus on matching your qualifications to the employer's needs: Emphasize how your skills, experience, and achievements match the employer's needs.\n",
       "5. Practice being optimistic and positive: As a daily exercise, practice being more optimistic and putting a positive spin on events and situations.\n",
       "6. Be honest and authentic: Remember to be honest and authentic in your answers, and avoid lying or exaggerating.\n",
       "\n",
       "As for the mandatory questions you should prepare for, the article mentions that about 80% of all interviews begin with the question \"Tell me about yourself.\" Here's a suggested answer format:\n",
       "\n",
       "* Start with the present and highlight your qualifications for the position.\n",
       "* Show how your skills, experience, and achievements match the employer's needs.\n",
       "* Use specific examples to illustrate your responsibilities and achievements.\n",
       "\n",
       "Additionally, be prepared to answer behavioral questions, such as \"Can you give an example of a time when...?\" or \"How did you handle a difficult situation in the past?\"\n",
       "\n",
       "Remember to stay calm, confident, and authentic during the interview, and to focus on showcasing your skills and qualifications. Good luck!</b>"
      ],
      "text/plain": [
       "<IPython.core.display.Markdown object>"
      ]
     },
     "metadata": {},
     "output_type": "display_data"
    }
   ],
   "source": [
    "from IPython.display import Markdown, display\n",
    "\n",
    "response = chat_engine.chat(\"How do I prepare myself for interview. What are the mendatory questions that I should prepare for?\")\n",
    "display(Markdown(f\"<b>{response}</b>\"))"
   ]
  },
  {
   "cell_type": "markdown",
   "id": "07a463ab",
   "metadata": {},
   "source": [
    "### **9. Context Retrieval/Similarity Search**"
   ]
  },
  {
   "cell_type": "code",
   "execution_count": 10,
   "id": "0e8c6602",
   "metadata": {},
   "outputs": [],
   "source": [
    "retriever = index.as_retriever(similarity_top_k=3)"
   ]
  },
  {
   "cell_type": "code",
   "execution_count": 11,
   "id": "3a430c6f",
   "metadata": {},
   "outputs": [
    {
     "name": "stdout",
     "output_type": "stream",
     "text": [
      "Node 1: Score: 0.45851323\n",
      "Text: GolferGPT Assistance: \n",
      "Our GolferGPT is here to assist you in many ways! If you ever face issues like: \n",
      "1. Changing profile information? – Need help updating your name, photo, or other details? \n",
      "GolferGPT has your back. \n",
      "2. Creating or interacting with a post? – Whether it’s writing, editing, liking, or commenting, \n",
      "GolferGPT will guide you through it. \n",
      "3. Creating or following a tournament? – Confused about how to host or join a tournament? \n",
      "Just ask GolferGPT! \n",
      "4. Inviting loved ones? – Want to bring friends or family into the app? GolferGPT can walk \n",
      "you through the invitation process. \n",
      "5. Managing friendships? – From sending friend requests to unfriending, GolferGPT makes \n",
      "it easy. \n",
      "6. Finding a good spot to golf? – Looking for a nearby or popular golf location? GolferGPT \n",
      "can help with suggestions and info. \n",
      "No worries — GolferGPT is always ready to assist you with anything you need in the app! \n",
      " \n",
      "NOTIFICATIONS \n",
      "Overview: \n",
      "The Notifications feature keeps you informed about everything that matters — from friend requests \n",
      "and messages to updates, mentions, and tournament activities. Notifications ensure you're always \n",
      "in the loop and never miss out on key interactions. \n",
      "Accessible via the bell icon (   ) at the top-right corner of the app, the notification center is your \n",
      "go-to space for timely and organized updates. \n",
      "Notification Channels \n",
      "You’ll receive notifications based on your preferences. By default, notifications are delivered \n",
      "through: \n",
      "• In-App Notifications – Real-time alerts within the app \n",
      "• Email Notifications – Important updates sent directly to your inbox \n",
      "How to Access Notifications \n",
      "• Tap the bell icon (   ) located at the top-right of the screen. \n",
      "• A badge or blue dot indicates new/unread notifications. \n",
      "• Tap on any notification to instantly navigate to the related content or action.\n",
      "\n",
      "Node 2: Score: 0.455880553\n",
      "Text: This two-tiered system ensures that Golf Guiders delivers complete experience for both casual \n",
      "players who love organizing their own games and avid fans who want front-row access to the \n",
      "professional golf scene. \n",
      "Local Tournaments \n",
      "Overview: \n",
      "Local Tournaments are designed for users who want to organize and play golf competitively with \n",
      "friends, colleagues, or other players within the Golf Guiders community. Users can create, \n",
      "manage, and participate in these tournaments. \n",
      "Access: \n",
      "You can find Local Tournaments from the app’s sidebar. It includes three tabs: \n",
      "• Organizer: View all tournaments you've created, both past and current. \n",
      "• Co-organizer: View tournaments where you've been added as a co-organizer. \n",
      "• Player: See tournaments you're participating in. You can also view your scorecards. \n",
      "Setup Options: \n",
      "Only the organizer can set up a tournament. The following fields are required: \n",
      "• Co-organizers (optional, multiple allowed) \n",
      "• Scoring Method (Stroke Play or Scramble) \n",
      "• Golf Course \n",
      "• Tee Markers (choose male: Blue, White, Yellow or female: Red) \n",
      "• Competition Name \n",
      "• Players (multiple allowed, must not be co-organizers, minimum 2) \n",
      "• Tee Intervals (min 2, max 100+) \n",
      "• Rounds (min 1, max 4) \n",
      "• Start Date & Time \n",
      "• Permissions (toggle for each player to allow or restrict score entry for others) \n",
      "Live Scoring: \n",
      "All invited members (organizers, co-organizers, and players) can view live scoring during the \n",
      "tournament. \n",
      "Pro Tournaments \n",
      "Overview: \n",
      "Pro Tournaments provide users with a window into the global golf scene with real-time access to \n",
      "major professional events.\n",
      "\n",
      "Node 3: Score: 0.418904603\n",
      "Text: • Purpose: Extra info you'd like to share \n",
      "• How to Fill: Share anything else you think is important for planning your trip, \n",
      "like dietary needs, accessibility concerns, preferred golf brands, etc. \n",
      "Tips \n",
      "• Be as detailed as possible. The more information you provide, the better the experience \n",
      "can be tailored for your group. \n",
      "• If you’re unsure about any field, selecting “Open to Anything” or “Flexible” helps keep \n",
      "the planning open-ended. \n",
      "• You’ll be contacted for follow-up or confirmation once your form is reviewed by the Golf \n",
      "Guiders trip planning team. \n",
      " \n",
      "GOLF NEWS \n",
      "Overview: \n",
      "The Golf News feature in the Golf Guiders app keeps users updated with the latest happenings in \n",
      "the world of golf—both in text and video format. It can be accessed directly from the app’s sidebar \n",
      "and is divided into two main tabs: \n",
      "1. News tab \n",
      "2. Videos tab \n",
      "News Tab \n",
      "Stay informed with the latest text-based news articles related to golf, enhanced with a built-in text-\n",
      "to-speech function for hands-free updates. \n",
      "• Text-to-Speech: Tap the play button next to any news article to listen to the headline and \n",
      "summary without opening it. \n",
      "• Read More: Tap Read More to view the full article. \n",
      "• In-Article Audio: Inside the full article view, you can use the text -to-speech feature again \n",
      "by tapping the play button located just below the news cover image. \n",
      "This tab is perfect for users who prefer listening to news while multitasking or on the go. \n",
      "Videos Tab \n",
      "Watch the latest golf-related news videos, pulled directly from YouTube. These include updates, \n",
      "expert opinions, match highlights, and more. \n",
      "• Content is always refreshed to keep you connected with the golf world visually. \n",
      "• Ideal for users who prefer engaging, visual content over reading.\n",
      "\n"
     ]
    }
   ],
   "source": [
    "nodes = retriever.retrieve(\"What is Golfergpt?\")\n",
    "\n",
    "for i, node in enumerate(nodes):\n",
    "    print(f\"Node {i+1}: Score: {node.score}\\nText: {node.text}\\n\")"
   ]
  },
  {
   "cell_type": "code",
   "execution_count": 12,
   "id": "cd0f02a0",
   "metadata": {},
   "outputs": [
    {
     "name": "stdout",
     "output_type": "stream",
     "text": [
      "\n",
      "\n",
      "To create a new post, follow these steps:\n",
      "\n",
      "1. On the Home Screen, tap the \"Got something to say? +\" field next to your profile picture.\n",
      "2. This opens the Post Creation Screen where you can customize and publish your post.\n",
      "\n",
      "You can then customize your post by choosing the post visibility options, adding text, photos, videos, tagging people, and more.\n"
     ]
    }
   ],
   "source": [
    "from llama_index.core.query_engine import RetrieverQueryEngine\n",
    "\n",
    "query_engine = RetrieverQueryEngine(retriever=retriever)\n",
    "response = query_engine.query(\"How can I create a new post?\")\n",
    "print(response)"
   ]
  },
  {
   "cell_type": "markdown",
   "id": "6efea92d",
   "metadata": {},
   "source": [
    "## **> You can inspect the retrieved node**"
   ]
  },
  {
   "cell_type": "code",
   "execution_count": 13,
   "id": "2248c78d",
   "metadata": {},
   "outputs": [
    {
     "name": "stdout",
     "output_type": "stream",
     "text": [
      "Node ID: 7d4f9e8d-2741-4fe4-bf15-5ff829ca0111\n",
      "Similarity: 0.45851323\n",
      "Text: GolferGPT Assistance:  Our GolferGPT is here to assist you in\n",
      "many ways! If you ever face issues like:  1. Changing profile\n",
      "information? – Need help updating your name, photo, or other details?\n",
      "GolferGPT has your back.  2. Creating or interacting with a post? –\n",
      "Whether it’s writing, editing, liking, or commenting,  GolferGPT will\n",
      "guide you thro...\n"
     ]
    }
   ],
   "source": [
    "from llama_index.core.response.pprint_utils import pprint_source_node\n",
    "\n",
    "pprint_source_node(nodes[0])"
   ]
  },
  {
   "cell_type": "code",
   "execution_count": 14,
   "id": "22c5dc83",
   "metadata": {},
   "outputs": [
    {
     "data": {
      "text/plain": [
       "{'page_label': '11',\n",
       " 'file_name': 'doc1.pdf',\n",
       " 'file_path': 'u:\\\\testLlamaIndex\\\\data\\\\doc1.pdf',\n",
       " 'file_type': 'application/pdf',\n",
       " 'file_size': 4201029,\n",
       " 'creation_date': '2025-07-21',\n",
       " 'last_modified_date': '2025-05-05'}"
      ]
     },
     "execution_count": 14,
     "metadata": {},
     "output_type": "execute_result"
    }
   ],
   "source": [
    "nodes[0].node.metadata"
   ]
  }
 ],
 "metadata": {
  "kernelspec": {
   "display_name": "myenv",
   "language": "python",
   "name": "python3"
  },
  "language_info": {
   "codemirror_mode": {
    "name": "ipython",
    "version": 3
   },
   "file_extension": ".py",
   "mimetype": "text/x-python",
   "name": "python",
   "nbconvert_exporter": "python",
   "pygments_lexer": "ipython3",
   "version": "3.11.4"
  }
 },
 "nbformat": 4,
 "nbformat_minor": 5
}
