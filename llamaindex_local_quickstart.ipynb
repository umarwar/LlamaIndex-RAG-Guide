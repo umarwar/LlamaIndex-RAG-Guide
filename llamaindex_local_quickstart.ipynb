{
 "cells": [
  {
   "cell_type": "markdown",
   "id": "a14eb3cc",
   "metadata": {},
   "source": [
    "# **LlamaIndex: Data indexing/retrieval for RAG**"
   ]
  },
  {
   "cell_type": "markdown",
   "id": "f47d61c3",
   "metadata": {},
   "source": [
    "### This specific example is using the chat engine in context mode.\n",
    "\n",
    "Chat engine is a high-level interface for having a conversation with your data (multiple back-and-forth instead of a single question & answer).\n",
    "Think ChatGPT, but augmented with your knowledge base.\n",
    "\n",
    "*For each chat interaction:*\n",
    "\n",
    "- first retrieve text from the index using the user message\n",
    "- set the retrieved text as context in the system prompt\n",
    "- return an answer to the user message\n",
    "\n",
    "\n",
    "This approach is simple, and works for questions directly related to the knowledge base and general interactions."
   ]
  },
  {
   "cell_type": "markdown",
   "id": "17bfd058",
   "metadata": {},
   "source": [
    "# **1. Install the necessary packages**"
   ]
  },
  {
   "cell_type": "code",
   "execution_count": null,
   "id": "f225139e",
   "metadata": {},
   "outputs": [],
   "source": [
    "!pip install llama-index llama-index-vector-stores-pinecone llama-index-llms-replicate"
   ]
  },
  {
   "cell_type": "markdown",
   "id": "85289e54",
   "metadata": {},
   "source": [
    "## **2. Read documents, index them, and save them to a storage directory**"
   ]
  },
  {
   "cell_type": "code",
   "execution_count": null,
   "id": "f6c56f1b",
   "metadata": {},
   "outputs": [],
   "source": [
    "import os\n",
    "from llama_index.core import VectorStoreIndex, SimpleDirectoryReader\n",
    "from llama_index.core import settings\n",
    "from llama_index.embeddings.openai import OpenAIEmbedding\n",
    "\n",
    "os.environ[\"OPENAI_API_KEY\"] = (\n",
    "    \"your_openai_api_key\"\n",
    ")\n",
    "settings.embed_model = OpenAIEmbedding(model=\"text-embedding-3-large\", dimensions=1536)\n",
    "\n",
    "documents = SimpleDirectoryReader(\"data\").load_data()\n",
    "index = VectorStoreIndex.from_documents(documents)\n",
    "index.storage_context.persist(\"storage\") # To avoid reprocessing documents every time, you can persist the index to disk:"
   ]
  },
  {
   "cell_type": "markdown",
   "id": "47fd32cf",
   "metadata": {},
   "source": [
    "## **3. Load index from storage and initialize chat engine**"
   ]
  },
  {
   "cell_type": "code",
   "execution_count": 89,
   "id": "e04c38b2",
   "metadata": {},
   "outputs": [
    {
     "name": "stdout",
     "output_type": "stream",
     "text": [
      "Loading llama_index.core.storage.kvstore.simple_kvstore from storage\\docstore.json.\n",
      "Loading llama_index.core.storage.kvstore.simple_kvstore from storage\\index_store.json.\n"
     ]
    }
   ],
   "source": [
    "from llama_index.core import StorageContext, load_index_from_storage\n",
    "\n",
    "storage_context = StorageContext.from_defaults(persist_dir=\"storage\")\n",
    "index = load_index_from_storage(storage_context)\n",
    "chat_engine = index.as_chat_engine(\n",
    "    chat_mode=\"context\",\n",
    "    system_prompt=(\n",
    "        \"You are a chatbot, able to have normal interactions, as well as answering natural language questions about GolfGuiders application manual and Interview questions.\"\n",
    "    ),\n",
    ")"
   ]
  },
  {
   "cell_type": "markdown",
   "id": "d5246fd7",
   "metadata": {},
   "source": [
    "## **4. Chat with your data**"
   ]
  },
  {
   "cell_type": "code",
   "execution_count": 91,
   "id": "c670c074",
   "metadata": {},
   "outputs": [
    {
     "name": "stdout",
     "output_type": "stream",
     "text": [
      "When answering the question \"Where do you see yourself five years from now?\" in an interview, you want to demonstrate your commitment to the position and the company, as well as your ambition and realistic career planning. Here’s how to craft your response:\n",
      "\n",
      "1. **Long-Term Commitment**: Start by reassuring the interviewer that you are looking to make a long-term commitment to the company. Express that the position aligns with what you are looking to do and are well-qualified to handle.\n",
      "\n",
      "2. **Focus on the Present**: Emphasize that your immediate goal is to excel in the position you're applying for, and you believe that future opportunities will naturally arise from your performance.\n",
      "\n",
      "3. **Avoid Specific Titles**: Avoid naming specific promotions or titles you wish to achieve, as this can come across as presumptuous. Instead, focus on the skills and experiences you hope to gain.\n",
      "\n",
      "4. **Confidence in Growth**: Convey confidence that by working hard and performing well, opportunities will open up. Share examples from your past where your dedication led to natural career advancement.\n",
      "\n",
      "Example Answer:\n",
      "\"I am definitely interested in making a long-term commitment to my next position. Judging by what you’ve told me about this position, it’s exactly what I’m looking for and what I am very well qualified to do. In terms of my future career path, I’m confident that if I do my work with excellence, opportunities will inevitably open up for me. It’s always been that way in my career, and I’m confident I’ll have similar opportunities here.\"\n",
      "\n",
      "This approach shows that you are focused, ambitious, and ready to contribute to the company’s success while growing your career.\n"
     ]
    }
   ],
   "source": [
    "response = chat_engine.chat(\"How do I answer 'Where do you see yourself five years from now?'\")\n",
    "print(response)"
   ]
  },
  {
   "cell_type": "markdown",
   "id": "a1deef5c",
   "metadata": {},
   "source": [
    "# **5. Configure the chat engine with custom llm**"
   ]
  },
  {
   "cell_type": "code",
   "execution_count": 92,
   "id": "2b962ca4",
   "metadata": {},
   "outputs": [
    {
     "name": "stdout",
     "output_type": "stream",
     "text": [
      "Loading llama_index.core.storage.kvstore.simple_kvstore from storage\\docstore.json.\n",
      "Loading llama_index.core.storage.kvstore.simple_kvstore from storage\\index_store.json.\n"
     ]
    }
   ],
   "source": [
    "from llama_index.core import StorageContext, load_index_from_storage, Settings\n",
    "from llama_index.llms.openai import OpenAI\n",
    "# from llama_index.llms.replicate import Replicate\n",
    "\n",
    "# change the global default LLM\n",
    "llm = OpenAI(model=\"gpt-4o\", temperature=0.7)\n",
    "# llm = Replicate(model=\"meta/meta-llama-3-8b-instruct\", temperature=0.7)\n",
    "\n",
    "Settings.llm = llm\n",
    "\n",
    "storage_context = StorageContext.from_defaults(persist_dir=\"storage\")\n",
    "index = load_index_from_storage(storage_context)\n",
    "chat_engine = index.as_chat_engine(\n",
    "    chat_mode=\"context\",\n",
    "    llm=llm,\n",
    "    system_prompt=(\n",
    "        \"You are a chatbot, able to have normal interactions, as well as answering natural language questions about GolfGuiders application manual.\"\n",
    "    ),\n",
    ")"
   ]
  },
  {
   "cell_type": "markdown",
   "id": "f3ed18ab",
   "metadata": {},
   "source": [
    "# **6. Streaming responses**"
   ]
  },
  {
   "cell_type": "code",
   "execution_count": 94,
   "id": "4dc0648b",
   "metadata": {},
   "outputs": [
    {
     "name": "stdout",
     "output_type": "stream",
     "text": [
      "Absolutely. I thrive under pressure and have successfully accomplished various goals and projects in high-pressure situations. For instance, I managed a project with a tight deadline where I had to coordinate with multiple teams to ensure timely delivery, and we achieved our objectives efficiently despite the challenges. This experience highlighted my ability to remain focused and productive even when the stakes are high."
     ]
    }
   ],
   "source": [
    "response = chat_engine.stream_chat(\"Can you work under pressure?\")\n",
    "for token in response.response_gen:\n",
    "    print(token, end=\"\")"
   ]
  },
  {
   "cell_type": "markdown",
   "id": "d6b9e756",
   "metadata": {},
   "source": [
    "# **7. Context Retriever**"
   ]
  },
  {
   "cell_type": "code",
   "execution_count": 95,
   "id": "fd906072",
   "metadata": {},
   "outputs": [
    {
     "name": "stdout",
     "output_type": "stream",
     "text": [
      "Loading llama_index.core.storage.kvstore.simple_kvstore from storage\\docstore.json.\n",
      "Loading llama_index.core.storage.kvstore.simple_kvstore from storage\\index_store.json.\n"
     ]
    }
   ],
   "source": [
    "from llama_index.core import StorageContext, load_index_from_storage\n",
    "\n",
    "storage_context = StorageContext.from_defaults(persist_dir=\"storage\")\n",
    "index = load_index_from_storage(storage_context)\n",
    "retriever = index.as_retriever(similarity_top_k=3)"
   ]
  },
  {
   "cell_type": "code",
   "execution_count": 96,
   "id": "8b4c2d8e",
   "metadata": {},
   "outputs": [
    {
     "name": "stdout",
     "output_type": "stream",
     "text": [
      "Node 1: Score: 0.8292969604066961\n",
      "Text: “I could also help you in many things they don’t teach at the Harvard Business School.  \n",
      "For example…(how to hire, train, motivate, etc.)  When it comes to knowing how to work \n",
      "well with people and getting the most out of them, there’s just no substitute for what you \n",
      "learn over many years of front-line experience.  You company would gain all this, too.” \n",
      "“From my side, there are strong benefits, as well.   Right now, I am unemployed.  I want \n",
      "to work, very much, and the position you have here is exactly what I love to do and am \n",
      "best at.  I’ll be happy doing this work and that’s what matters most to me, a lot more that \n",
      "money or title.” \n",
      "“Most important, I’m looking to make a long term commitment in my career now. I’ve had \n",
      "enough of job-hunting and want a permanent spot at this point in my career.  I also know \n",
      "that if I perform this job with excellence, other opportunities cannot help but open up for \n",
      "me right here.  In time, I’ll find many other ways to help this company and in so doing, \n",
      "help myself.  I really am looking to make a long-term commitment.” \n",
      "NOTE:  The main concern behind the “overqualified” question is that you will leave your \n",
      "new employer as soon as something better comes your way.  Anything you can say to \n",
      "demonstrate the sincerity of your commitment to the employer and reassure him that \n",
      "you’re looking to stay for the long-term will help you overcome this objection. \n",
      "Question 9 Where do you see yourself five years from now? \n",
      "TRAPS:  One reason interviewers ask this question is to see if you’re settling for this \n",
      "position, using it merely as a stopover until something better comes along.  Or they \n",
      "could be trying to gauge your level of ambition. \n",
      "If you’re too specific, i.e., naming the promotions you someday hope to win, you’ll sound \n",
      "presumptuous.  If you’re too vague, you’ll seem rudderless. \n",
      "BEST ANSWER:   Reassure your interviewer that you’re looking to make a long-term \n",
      "commitment…that this position entails exactly what you’re looking to do and what you do \n",
      "extremely well.  As for your future, you believe that if you perform each job at hand with \n",
      "excellence, future opportunities will take care of themselves. \n",
      "Example:  “I am definitely interested in making a long-term commitment to my next \n",
      "position.  Judging by what you’ve told me about this position, it’s exactly what I’m looking \n",
      "for and what I am very well qualified to do.  In terms of my future career path, I’m \n",
      "confident that if I do my work with excellence, opportunities will inevitable open up for \n",
      "me.  It’s always been that way in my career, and I’m confident I’ll have similar \n",
      "opportunities here.” \n",
      "64 Toughest Questions  Page 11\n",
      "\n",
      "Node 2: Score: 0.8102907304435492\n",
      "Text: Example:  “After I floated down from cloud nine, I think I would still hold my basic belief \n",
      "that achievement and purposeful work are essential to a happy, productive life.  After all, \n",
      "if money alone bought happiness, then all rich people would be all happy, and that’s not \n",
      "true. \n",
      "“I love the work I do, and I think I’d always want to be involved in my career in some \n",
      "fashion.  Winning the lottery would make it more fun because it would mean having more \n",
      "flexibility, more options...who knows?” \n",
      "“Of course, since I can’t count on winning, I’d just as soon create my own destiny by \n",
      "sticking with what’s worked for me, meaning good old reliable hard work and a desire to \n",
      "achieve.  I think those qualities have built many more fortunes that all the lotteries put \n",
      "together.” \n",
      "Question 61 Looking back on your last position, have you done your \n",
      "best work? \n",
      "TRAPS:  Tricky question.  Answer “absolutely” and it can seem like your best work is \n",
      "behind you.  Answer, “no, my best work is ahead of me,” and it can seem as if you didn’t \n",
      "give it your all. \n",
      "BEST ANSWER:  To cover both possible paths this question can take, your answer \n",
      "should state that you always try to do your best, and the best of your career is right now.  \n",
      "Like an athlete at the top of his game, you are just hitting your career stride thanks to \n",
      "several factors.  Then, recap those factors, highlighting your strongest qualifications. \n",
      "Question 62 Why should I hire you from the outside when I could \n",
      "promote someone from within? \n",
      "TRAPS:  This question isn’t as aggressive as it sounds.  It represents the interviewer’s \n",
      "own dilemma over this common problem.  He’s probably leaning toward you already and \n",
      "for reassurance, wants to hear what you have to say on the matter. \n",
      "BEST ANSWER:  Help him see the qualifications that only you can offer. \n",
      "Example:  “In general, I think it’s a good policy to hire from within – to look outside \n",
      "probably means you’re not completely comfortable choosing someone from inside. \n",
      "“Naturally, you want this department to be as strong as it possibly can be, so you want \n",
      "the strongest candidate.  I feel that I can fill that bill because…(then recap your strongest \n",
      "qualifications that match up with his greatest needs).” \n",
      "64 Toughest Questions  Page 37\n",
      "\n",
      "Node 3: Score: 0.8090951368930538\n",
      "Text: If possible, also show that your job changes were more frequent in your younger days, \n",
      "while you were establishing yourself, rounding out your skills and looking for the right \n",
      "career path.  At this stage in your career, you’re certainly much more interested in the \n",
      "best long-term opportunity. \n",
      "You might also cite the job(s) where you stayed the longest and describe that this type of \n",
      "situation is what you’re looking for now. \n",
      "Question 37 What do you see as the proper role/mission of… \n",
      "…a good (job title you’re seeking); \n",
      "…a good manager; \n",
      "…an executive in serving the community; \n",
      "…a leading company in our industry; etc.  \n",
      "TRAPS:  These and other “proper role” questions are designed to test your \n",
      "understanding of your place in the bigger picture of your department, company, \n",
      "community and profession….as well as the proper role each of these entities should play \n",
      "in its bigger picture. \n",
      "The question is most frequently asked by the most thoughtful individuals and \n",
      "companies…or by those concerned that you’re coming from a place with a radically \n",
      "different corporate culture (such as from a big government bureaucracy to an aggressive \n",
      "small company). \n",
      "The most frequent mistake executives make in answering is simply not being prepared \n",
      "(seeming as if they’ve never giving any of this a though.)…or in phrasing an answer best \n",
      "suited to their prior organization’s culture instead of the hiring company’s. \n",
      "BEST ANSWER:    Think of the most essential ingredients of success for each category \n",
      "above – your job title, your role as manager, your firm’s role, etc. \n",
      "Identify at least three but no more than six qualities you feel are most important to \n",
      "success in each role.  Then commit your response to memory. \n",
      "Here, again, the more information you’ve already drawn out about the greatest wants \n",
      "and needs of the interviewer, and the more homework you’ve done to identify the culture \n",
      "of the firm, the more on-target your answer will be. \n",
      "Question 38 What would you say to your boss if he’s crazy about an \n",
      "idea, but you think it stinks? \n",
      "TRAPS:  This is another question that pits two values, in this case loyalty and honesty, \n",
      "against one another. \n",
      "BEST ANSWER:    Remember the rule stated earlier:  In any conflict between values, \n",
      "always choose integrity. \n",
      "64 Toughest Questions  Page 25\n",
      "\n"
     ]
    }
   ],
   "source": [
    "# Here is the behinde the scenes of the retriever how it retrieve relevent chunks\n",
    "nodes = retriever.retrieve(\"How do I answer 'Where do you see yourself five years from now?'\")\n",
    "\n",
    "for i, node in enumerate(nodes):\n",
    "    print(f\"Node {i+1}: Score: {node.score}\\nText: {node.text}\\n\")"
   ]
  },
  {
   "cell_type": "code",
   "execution_count": 97,
   "id": "95083afc",
   "metadata": {},
   "outputs": [
    {
     "name": "stdout",
     "output_type": "stream",
     "text": [
      "To create a new post, start by tapping the \"Got something to say? +\" field next to your profile picture on the Home Screen. This will open the Post Creation Screen where you can customize your post and publish it. You have various options to enhance your post, such as adding text, images, videos, tagging people, sharing your mood or activity, choosing a background color, and attaching music. You can also set the visibility of your post to Public, Private, or Circle.\n"
     ]
    }
   ],
   "source": [
    "from llama_index.core.query_engine import RetrieverQueryEngine\n",
    "\n",
    "query_engine = RetrieverQueryEngine(retriever=retriever)\n",
    "response = query_engine.query(\"How can I create a new post?\")\n",
    "print(response)"
   ]
  }
 ],
 "metadata": {
  "kernelspec": {
   "display_name": "myenv",
   "language": "python",
   "name": "python3"
  },
  "language_info": {
   "codemirror_mode": {
    "name": "ipython",
    "version": 3
   },
   "file_extension": ".py",
   "mimetype": "text/x-python",
   "name": "python",
   "nbconvert_exporter": "python",
   "pygments_lexer": "ipython3",
   "version": "3.11.4"
  }
 },
 "nbformat": 4,
 "nbformat_minor": 5
}
